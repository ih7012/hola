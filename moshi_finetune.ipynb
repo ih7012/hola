{
  "cells": [
    {
      "cell_type": "markdown",
      "metadata": {
        "id": "RyuOCYM92LJb"
      },
      "source": [
        "# Getting Started with Fine-Tuning Moshi 7B\n",
        "\n",
        "This notebook shows you a simple example of how to LoRA finetune Moshi 7B. You can run this notebook in Google Colab using a A100 GPU.\n",
        "\n",
        "<a target=\"_blank\" href=\"https://colab.research.google.com/github//kyutai-labs/moshi-finetune/blob/main/tutorials/moshi_finetune.ipynb\">\n",
        "  <img src=\"https://colab.research.google.com/assets/colab-badge.svg\" alt=\"Open In Colab\"/>\n",
        "</a>\n",
        "\n",
        "Check out `moshi-finetune` Github repo to learn more: https://github.com/kyutai-labs/moshi-finetune/\n"
      ]
    },
    {
      "cell_type": "markdown",
      "metadata": {
        "id": "yxr8mv-17GfB"
      },
      "source": [
        "## Installation\n",
        "\n",
        "Clone the `moshi-finetune` repo:\n"
      ]
    },
    {
      "cell_type": "code",
      "execution_count": 1,
      "metadata": {
        "colab": {
          "base_uri": "https://localhost:8080/"
        },
        "id": "TIj3IlIeVDIb",
        "outputId": "ff67c114-223b-46b0-aa2d-5fe61dbbdc26"
      },
      "outputs": [
        {
          "output_type": "stream",
          "name": "stdout",
          "text": [
            "/content\n",
            "Cloning into 'moshi-finetune'...\n",
            "remote: Enumerating objects: 245, done.\u001b[K\n",
            "remote: Counting objects: 100% (55/55), done.\u001b[K\n",
            "remote: Compressing objects: 100% (26/26), done.\u001b[K\n",
            "remote: Total 245 (delta 36), reused 35 (delta 29), pack-reused 190 (from 1)\u001b[K\n",
            "Receiving objects: 100% (245/245), 638.97 KiB | 13.31 MiB/s, done.\n",
            "Resolving deltas: 100% (135/135), done.\n"
          ]
        }
      ],
      "source": [
        "%cd /content/\n",
        "!git clone https://github.com/kyutai-labs/moshi-finetune.git"
      ]
    },
    {
      "cell_type": "markdown",
      "metadata": {
        "id": "mQPd_pGT7WiY"
      },
      "source": [
        "Install all required dependencies:\n"
      ]
    },
    {
      "cell_type": "code",
      "execution_count": null,
      "metadata": {
        "id": "KuTOGipl7BS7"
      },
      "outputs": [],
      "source": [
        "%pip install -e /content/moshi-finetune"
      ]
    },
    {
      "cell_type": "markdown",
      "metadata": {
        "id": "ams-19wF8zgY"
      },
      "source": [
        "## Prepare dataset\n"
      ]
    },
    {
      "cell_type": "code",
      "execution_count": null,
      "metadata": {
        "id": "kSesbUVtp2sz"
      },
      "outputs": [],
      "source": [
        "from pathlib import Path\n",
        "\n",
        "from huggingface_hub import snapshot_download\n",
        "\n",
        "Path(\"/content/data/daily-talk-contiguous\").mkdir(parents=True, exist_ok=True)\n",
        "\n",
        "# Download the dataset\n",
        "local_dir = snapshot_download(\n",
        "    \"kyutai/DailyTalkContiguous\",\n",
        "    repo_type=\"dataset\",\n",
        "    local_dir=\"/content/data/daily-talk-contiguous\",\n",
        ")"
      ]
    },
    {
      "cell_type": "markdown",
      "metadata": {
        "id": "Hia7n0T1_mHZ"
      },
      "source": [
        "## Start training\n"
      ]
    },
    {
      "cell_type": "code",
      "execution_count": 4,
      "metadata": {
        "id": "ZtcLerooWFeB"
      },
      "outputs": [],
      "source": [
        "# these info is needed for training\n",
        "import os\n",
        "\n",
        "os.environ[\"CUDA_DEVICE_ORDER\"] = \"PCI_BUS_ID\"\n",
        "os.environ[\"CUDA_VISIBLE_DEVICES\"] = \"0\""
      ]
    },
    {
      "cell_type": "code",
      "execution_count": 6,
      "metadata": {
        "id": "5dxTlIQMaJGv"
      },
      "outputs": [],
      "source": [
        "# define training configuration\n",
        "# for your own use cases, you might want to change the data paths, model path, run_dir, and other hyperparameters\n",
        "import yaml\n",
        "\n",
        "config = \"\"\"\n",
        "# data\n",
        "data:\n",
        "  train_data: '/content/data/daily-talk-contiguous/dailytalk.jsonl' # Fill\n",
        "  eval_data: '' # Optionally Fill\n",
        "  shuffle: true\n",
        "\n",
        "# model\n",
        "moshi_paths:\n",
        "  hf_repo_id: \"kyutai/moshiko-pytorch-bf16\"\n",
        "\n",
        "\n",
        "full_finetuning: false # Activate lora.enable if partial finetuning\n",
        "lora:\n",
        "  enable: true\n",
        "  rank: 128\n",
        "  scaling: 2.\n",
        "  ft_embed: false\n",
        "\n",
        "# training hyperparameters\n",
        "first_codebook_weight_multiplier: 100.\n",
        "text_padding_weight: .5\n",
        "\n",
        "\n",
        "# tokens per training steps = batch_size x num_GPUs x duration_sec\n",
        "# we recommend a sequence duration of 300 seconds\n",
        "# If you run into memory error, you can try reduce the sequence length\n",
        "duration_sec: 50\n",
        "batch_size: 1\n",
        "max_steps: 30\n",
        "\n",
        "gradient_checkpointing: true # Activate checkpointing of layers\n",
        "\n",
        "# optim\n",
        "optim:\n",
        "  lr: 2.e-6\n",
        "  weight_decay: 0.1\n",
        "  pct_start: 0.05\n",
        "\n",
        "# other\n",
        "seed: 0\n",
        "log_freq: 10\n",
        "eval_freq: 1\n",
        "do_eval: False\n",
        "ckpt_freq: 10\n",
        "\n",
        "save_adapters: True\n",
        "\n",
        "run_dir: \"/content/test\"  # Fill\n",
        "\"\"\"\n",
        "\n",
        "# save the same file locally into the example.yaml file\n",
        "with open(\"/content/example.yaml\", \"w\") as file:\n",
        "    yaml.dump(yaml.safe_load(config), file)"
      ]
    },
    {
      "cell_type": "code",
      "execution_count": null,
      "metadata": {
        "id": "ErD1ktQUMyPZ"
      },
      "outputs": [],
      "source": [
        "# make sure the run_dir has not been created before\n",
        "# only run this when you ran torchrun previously and created the /content/test_ultra file\n",
        "# ! rm -r /content/test"
      ]
    },
    {
      "cell_type": "markdown",
      "source": [
        "# Start Training"
      ],
      "metadata": {
        "id": "sH4koaJUsTlZ"
      }
    },
    {
      "cell_type": "code",
      "source": [
        "# Cell 2 - Imports\n",
        "import dataclasses\n",
        "import logging\n",
        "import os\n",
        "import pprint\n",
        "import shutil\n",
        "from contextlib import ExitStack\n",
        "from pathlib import Path\n",
        "\n",
        "import torch\n",
        "import torch.cuda\n",
        "import torch.distributed as dist\n",
        "from torch.optim import AdamW, lr_scheduler\n",
        "\n",
        "from finetune.args import TrainArgs\n",
        "from finetune.checkpointing import Checkpointer\n",
        "from finetune.data.data_loader import build_data_loader\n",
        "from finetune.data.interleaver import InterleavedTokenizer, Interleaver\n",
        "from finetune.distributed import (\n",
        "    BACKEND,\n",
        "    avg_aggregate,\n",
        "    get_rank,\n",
        "    get_world_size,\n",
        "    is_torchrun,\n",
        "    set_device,\n",
        ")\n",
        "from finetune.eval import evaluate\n",
        "from finetune.loss import compute_loss_with_mask\n",
        "from finetune.mixed_precision import (\n",
        "    downcast_mixed_precision,\n",
        "    prepare_mixed_precision,\n",
        "    upcast_mixed_precision,\n",
        ")\n",
        "from finetune.monitoring.metrics_logger import (\n",
        "    MetricsLogger,\n",
        "    eval_log_msg,\n",
        "    get_eval_logs,\n",
        "    get_train_logs,\n",
        "    train_log_msg,\n",
        ")\n",
        "from finetune.monitoring.utils import set_logger\n",
        "from finetune.utils import TrainState, logged_closing, set_random_seed\n",
        "from finetune.wrapped_model import get_fsdp_model\n",
        "from moshi.models import loaders\n",
        "\n",
        "logger = logging.getLogger(\"train\")"
      ],
      "metadata": {
        "id": "R4m5AUAEsZGy"
      },
      "execution_count": 14,
      "outputs": []
    },
    {
      "cell_type": "code",
      "source": [
        "# Cell 3 - Utility logging function\n",
        "def main_logger_info(message: str) -> None:\n",
        "    if get_rank() == 0:\n",
        "        logger.info(message)"
      ],
      "metadata": {
        "id": "fJldy_hisg-2"
      },
      "execution_count": 15,
      "outputs": []
    },
    {
      "cell_type": "code",
      "source": [
        "# Cell 4 - Entry point\n",
        "def train(config: str):\n",
        "    args: TrainArgs = TrainArgs.load(config, drop_extra_fields=False)\n",
        "    set_logger(logging.INFO)\n",
        "\n",
        "    with ExitStack() as exit_stack:\n",
        "        _train(args, exit_stack)\n",
        "    logger.info(\"Closed everything!\")"
      ],
      "metadata": {
        "id": "UNlXyxFnsi3I"
      },
      "execution_count": 16,
      "outputs": []
    },
    {
      "cell_type": "code",
      "source": [
        "from contextlib import ExitStack\n",
        "import pprint, dataclasses, shutil, os, torch, torch.distributed as dist\n",
        "from pathlib import Path\n",
        "\n",
        "# 1. Load args from config file\n",
        "args = TrainArgs.load(\"/content/example.yaml\", drop_extra_fields=False)\n",
        "\n",
        "# 2. Create exit stack\n",
        "exit_stack = ExitStack()"
      ],
      "metadata": {
        "colab": {
          "base_uri": "https://localhost:8080/"
        },
        "id": "Cx64HR6fsqdQ",
        "outputId": "846c3b9d-42c8-4abd-a06a-d826b919f8df"
      },
      "execution_count": 21,
      "outputs": [
        {
          "output_type": "stream",
          "name": "stdout",
          "text": [
            "Warning: `hf_repo_id` is set but `config_path` is None. This will load default models.\n"
          ]
        }
      ]
    },
    {
      "cell_type": "code",
      "source": [
        "from pathlib import Path\n",
        "import os, pprint, dataclasses, shutil, torch\n",
        "from contextlib import ExitStack\n",
        "\n",
        "# Assuming `args` already exists\n",
        "set_random_seed(args.seed)\n",
        "os.environ[\"PYTORCH_CUDA_ALLOC_CONF\"] = \"expandable_segments:True\"\n",
        "\n",
        "# Init run dir\n",
        "run_dir = Path(args.run_dir)\n",
        "if run_dir.exists() and not args.overwrite_run_dir:\n",
        "    raise RuntimeError(f\"Run dir {run_dir} already exists.\")\n",
        "elif run_dir.exists():\n",
        "    shutil.rmtree(run_dir)\n",
        "\n",
        "if args.full_finetuning:\n",
        "    assert not args.lora.enable, \"LoRA should not be enabled for full finetuning.\"\n",
        "else:\n",
        "    assert args.lora.enable, \"LoRA should be enabled for partial finetuning\"\n",
        "\n",
        "run_dir.mkdir(exist_ok=True, parents=True)\n",
        "\n",
        "args_path = run_dir / \"args.yaml\"\n",
        "if not args_path.exists():\n",
        "    args.save(args_path)\n",
        "\n",
        "print(\"TrainArgs:\", pprint.pformat(dataclasses.asdict(args)))"
      ],
      "metadata": {
        "id": "Rh1POv_ww_VD",
        "outputId": "16856bab-c419-43fb-a3cf-a345ee2b902b",
        "colab": {
          "base_uri": "https://localhost:8080/"
        }
      },
      "execution_count": 27,
      "outputs": [
        {
          "output_type": "stream",
          "name": "stdout",
          "text": [
            "TrainArgs: {'batch_size': 1,\n",
            " 'ckpt_freq': 10,\n",
            " 'data': {'eval_data': '',\n",
            "          'shuffle': True,\n",
            "          'train_data': '/content/data/daily-talk-contiguous/dailytalk.jsonl'},\n",
            " 'do_ckpt': True,\n",
            " 'do_eval': False,\n",
            " 'duration_sec': 50.0,\n",
            " 'eval_freq': 1,\n",
            " 'first_codebook_weight_multiplier': 100.0,\n",
            " 'full_finetuning': False,\n",
            " 'gradient_checkpointing': True,\n",
            " 'log_freq': 10,\n",
            " 'lora': {'enable': True, 'ft_embed': False, 'rank': 128, 'scaling': 2.0},\n",
            " 'max_norm': 1.0,\n",
            " 'max_steps': 30,\n",
            " 'moshi_paths': {'config_path': None,\n",
            "                 'hf_repo_id': 'kyutai/moshiko-pytorch-bf16',\n",
            "                 'mimi_path': None,\n",
            "                 'moshi_path': None,\n",
            "                 'tokenizer_path': None},\n",
            " 'num_ckpt_keep': 3,\n",
            " 'num_microbatches': 1,\n",
            " 'optim': {'lr': 2e-06, 'pct_start': 0.05, 'weight_decay': 0.1},\n",
            " 'overwrite_run_dir': False,\n",
            " 'param_dtype': 'bfloat16',\n",
            " 'run_dir': '/content/test',\n",
            " 'save_adapters': True,\n",
            " 'seed': 0,\n",
            " 'text_padding_weight': 0.5,\n",
            " 'wandb': {'key': None, 'offline': False, 'project': None, 'run_name': None},\n",
            " 'world_size': -1}\n"
          ]
        }
      ]
    },
    {
      "cell_type": "markdown",
      "source": [
        "## LOAD MODELs"
      ],
      "metadata": {
        "id": "lvtH7-Ywxkok"
      }
    },
    {
      "cell_type": "code",
      "source": [
        "# Load models\n",
        "checkpoint_info = loaders.CheckpointInfo.from_hf_repo(\n",
        "    hf_repo=args.moshi_paths.hf_repo_id,\n",
        "    moshi_weights=args.moshi_paths.moshi_path,\n",
        "    mimi_weights=args.moshi_paths.mimi_path,\n",
        "    tokenizer=args.moshi_paths.tokenizer_path,\n",
        "    config_path=args.moshi_paths.config_path,\n",
        ")\n",
        "\n",
        "lm_config = (\n",
        "    loaders._lm_kwargs if checkpoint_info.raw_config is None else checkpoint_info.raw_config\n",
        ")\n",
        "lm_config[\"lora\"] = args.lora.enable\n",
        "lm_config[\"lora_rank\"] = args.lora.rank\n",
        "lm_config[\"lora_scaling\"] = args.lora.scaling"
      ],
      "metadata": {
        "id": "hoyqD8Glxl9A",
        "outputId": "e32b3613-540e-4043-c399-3bdfecaa771d",
        "colab": {
          "base_uri": "https://localhost:8080/",
          "height": 169,
          "referenced_widgets": [
            "4440fa169e8546dfa5812b6f51fd9d06",
            "e16d9557bed74118b550b5a6a90f1c7b",
            "d9151dd33b2e47f2a02f884ecf5cbead",
            "e81450586d2d44b0911f0b5331657662",
            "0a41765cdf9f47edae1879e58007ff52",
            "ee301549e4654fdab5b86ce805b1f38a",
            "9603aec2ff614ab79998c9f38123b22f",
            "c6569ab737e14b2b81e5da261b6a74c7",
            "627240ee240d40fd877ff33d9846440d",
            "fecfb2df46f543cd8f8d8bf1f4cbbd6a",
            "908cdafa727d44749127a2711e94f73b",
            "601ec57bab7641cbb15fbfb9e851ffeb",
            "fe8eed5e50414ce99de0fff39f70e05d",
            "61155063cf854b3b84f767b80c2885e5",
            "b9e4a507fc7e4e5981cf451895e7c600",
            "4b96f08d7bbe4bae81d6d0b2abace0e0",
            "26fc91fcbead48a38f82199513643544",
            "c69544a20c6140f5b31c2c3fb059abc7",
            "b08c948a89154eb8b83f7d15d86e4326",
            "4bd1016170814e27b16325ebbf0cda86",
            "7d52e1cd37f8436b838f999663e94888",
            "71c1954f6953475f8b6dbf1611e38453",
            "808dff2046794a9caa3b5356d7beb0b5",
            "c381bff752f841e384d2bbbfce0c552e",
            "c56d02ed593e4faba93387143b52144e",
            "3525bbf289fe4c01ac905a40425cf6ce",
            "dc517e7640fe4915b3e18809499de034",
            "daca5e006f36477fba1cab83afce6f70",
            "ed73b45789664e6b9e423d144f8b386b",
            "cee4d93b6f234307a89e7ccac2b1b102",
            "4a3e36be6c354ab084d960440fd733c4",
            "0da7e63ce2184b57846d85ac67b6919f",
            "043b935126244bcaa8a93a07d6d659fe"
          ]
        }
      },
      "execution_count": 28,
      "outputs": [
        {
          "output_type": "stream",
          "name": "stderr",
          "text": [
            "/usr/local/lib/python3.11/dist-packages/moshi/models/loaders.py:191: UserWarning: Repository kyutai/moshiko-pytorch-bf16 contains no config.json. Assuming this is a Moshi 7B. Support for such repository might be removed in the future.\n",
            "  warnings.warn(\n"
          ]
        },
        {
          "output_type": "display_data",
          "data": {
            "text/plain": [
              "model.safetensors:   0%|          | 0.00/15.4G [00:00<?, ?B/s]"
            ],
            "application/vnd.jupyter.widget-view+json": {
              "version_major": 2,
              "version_minor": 0,
              "model_id": "4440fa169e8546dfa5812b6f51fd9d06"
            }
          },
          "metadata": {}
        },
        {
          "output_type": "display_data",
          "data": {
            "text/plain": [
              "(…)nizer-e351c8d8-checkpoint125.safetensors:   0%|          | 0.00/385M [00:00<?, ?B/s]"
            ],
            "application/vnd.jupyter.widget-view+json": {
              "version_major": 2,
              "version_minor": 0,
              "model_id": "601ec57bab7641cbb15fbfb9e851ffeb"
            }
          },
          "metadata": {}
        },
        {
          "output_type": "display_data",
          "data": {
            "text/plain": [
              "tokenizer_spm_32k_3.model:   0%|          | 0.00/553k [00:00<?, ?B/s]"
            ],
            "application/vnd.jupyter.widget-view+json": {
              "version_major": 2,
              "version_minor": 0,
              "model_id": "808dff2046794a9caa3b5356d7beb0b5"
            }
          },
          "metadata": {}
        }
      ]
    },
    {
      "cell_type": "code",
      "source": [
        "mimi = checkpoint_info.get_mimi(device=\"cuda\")\n",
        "mimi.eval()\n",
        "for p in mimi.parameters():\n",
        "    p.requires_grad = False"
      ],
      "metadata": {
        "id": "TPNJeG3XxmQe"
      },
      "execution_count": 30,
      "outputs": []
    },
    {
      "cell_type": "code",
      "source": [
        "# Get pad, eos and zero token value.\n",
        "%%capture\n",
        "!wget https://huggingface.co/kyutai/moshiko-pytorch-bf16/resolve/main/tokenizer_spm_32k_3.model\n",
        "import sentencepiece as spm_tknz\n",
        "\n",
        "sp = spm_tknz.SentencePieceProcessor()\n",
        "sp.load('tokenizer_spm_32k_3.model')\n",
        "\n",
        "# To find token IDs by special token text, e.g. \"<pad>\", \"<eos>\", \"<zero>\"\n",
        "text_padding_token_id = sp.piece_to_id(\"<pad>\")\n",
        "end_of_text_padding_id = sp.piece_to_id(\"<eos>\")\n",
        "zero_token_id = sp.piece_to_id(\"<zero>\")"
      ],
      "metadata": {
        "id": "-FA1dDNh0heN"
      },
      "execution_count": 42,
      "outputs": []
    },
    {
      "cell_type": "code",
      "source": [
        "spm = checkpoint_info.get_text_tokenizer()"
      ],
      "metadata": {
        "id": "L4CtOQb_yspH"
      },
      "execution_count": 43,
      "outputs": []
    },
    {
      "cell_type": "code",
      "source": [
        "interleaver = Interleaver(\n",
        "    spm,\n",
        "    mimi.frame_rate,\n",
        "    text_padding_token_id,\n",
        "    end_of_text_padding_id,\n",
        "    zero_token_id,\n",
        "    keep_main_only=True,\n",
        ")\n",
        "interleaved_tokenizer = InterleavedTokenizer(\n",
        "    mimi, interleaver, duration_sec=args.duration_sec\n",
        ")"
      ],
      "metadata": {
        "id": "jwtRnRe9yB-W"
      },
      "execution_count": 44,
      "outputs": []
    },
    {
      "cell_type": "code",
      "source": [
        "# Data loaders (single GPU rank=0, world_size=1)\n",
        "data_loader = build_data_loader(\n",
        "    instruct_tokenizer=interleaved_tokenizer,\n",
        "    args=args.data,\n",
        "    batch_size=args.batch_size,\n",
        "    seed=args.seed,\n",
        "    rank=0,\n",
        "    world_size=1,\n",
        "    is_eval=False,\n",
        ")"
      ],
      "metadata": {
        "id": "Z41114gVyGhQ"
      },
      "execution_count": 45,
      "outputs": []
    },
    {
      "cell_type": "code",
      "source": [
        "for i in data_loader:\n",
        "  print(i)\n",
        "  break"
      ],
      "metadata": {
        "id": "LB1kCKQK0r1Y",
        "outputId": "6b004aab-318c-4de7-9182-e1376ea3e896",
        "colab": {
          "base_uri": "https://localhost:8080/"
        }
      },
      "execution_count": 46,
      "outputs": [
        {
          "output_type": "stream",
          "name": "stdout",
          "text": [
            "Batch(codes=tensor([[[   0,  634,    0,  ...,    0,  705,  367],\n",
            "         [1049,  958, 1784,  ...,  727,  142, 1586],\n",
            "         [1515, 1597, 1523,  ...,  427,  861,  886],\n",
            "         ...,\n",
            "         [1443,  555, 1572,  ..., 1030, 1030, 1030],\n",
            "         [1871,  666,  825,  ...,  976,  976,  976],\n",
            "         [2008, 1648, 2008,  ..., 2008, 2008, 2008]]], device='cuda:0'), condition_attributes=None)\n"
          ]
        }
      ]
    },
    {
      "cell_type": "code",
      "source": [
        "import safetensors\n",
        "\n",
        "def get_model_fp8_no_fsdp(args: TrainArgs, checkpointer_info):\n",
        "    # Load model on meta device first for memory efficiency\n",
        "    with torch.device(\"meta\"):\n",
        "        model = checkpointer_info.get_moshi(\n",
        "            device=\"meta\",\n",
        "            dtype=torch.float32,  # load full precision initially\n",
        "            lm_kwargs_overrides={\n",
        "                \"gradient_checkpointing\": args.gradient_checkpointing,\n",
        "                \"lora\": args.lora.enable,\n",
        "                \"lora_rank\": args.lora.rank,\n",
        "                \"lora_scaling\": args.lora.scaling,\n",
        "            },\n",
        "            load_weight=False,\n",
        "        )\n",
        "\n",
        "    if get_rank() == 0:\n",
        "        model_state_dict = safetensors.torch.load_file(checkpointer_info.moshi_weights)\n",
        "\n",
        "        # Convert all weights to FP8-like (pseudo function, replace with actual FP8 method)\n",
        "        def to_fp8(tensor):\n",
        "            # Placeholder: real FP8 conversion needed from your FP8 library\n",
        "            return tensor.to(torch.float16)  # or custom FP8 conversion\n",
        "\n",
        "        for k, v in model_state_dict.items():\n",
        "            model_state_dict[k] = to_fp8(v)\n",
        "\n",
        "        model.load_state_dict(model_state_dict, strict=False, assign=True)\n",
        "\n",
        "        if args.lora.enable and not args.full_finetuning:\n",
        "            # Initialize LoRA layers if needed\n",
        "            initialize_lora_parameters(model, torch.float16)\n",
        "\n",
        "    torch.distributed.barrier()\n",
        "\n",
        "    # Set requires_grad flags\n",
        "    if args.lora.enable and not args.full_finetuning:\n",
        "        for name, param in model.named_parameters():\n",
        "            if \"lora\" in name:\n",
        "                param.requires_grad = True\n",
        "            elif args.lora.ft_embed and \"emb\" in name:\n",
        "                param.requires_grad = True\n",
        "            else:\n",
        "                param.requires_grad = False\n",
        "    else:\n",
        "        for param in model.parameters():\n",
        "            param.requires_grad = True\n",
        "\n",
        "    # Move to CUDA device\n",
        "    return model.cuda()"
      ],
      "metadata": {
        "id": "3KiIAZMB0tG9",
        "outputId": "1d4d4710-5273-400a-988e-da7310e30040",
        "colab": {
          "base_uri": "https://localhost:8080/",
          "height": 220
        }
      },
      "execution_count": 47,
      "outputs": [
        {
          "output_type": "error",
          "ename": "NameError",
          "evalue": "name 'CheckpointInfo' is not defined",
          "traceback": [
            "\u001b[0;31m---------------------------------------------------------------------------\u001b[0m",
            "\u001b[0;31mNameError\u001b[0m                                 Traceback (most recent call last)",
            "\u001b[0;32m/tmp/ipython-input-3636926355.py\u001b[0m in \u001b[0;36m<cell line: 0>\u001b[0;34m()\u001b[0m\n\u001b[0;32m----> 1\u001b[0;31m \u001b[0;32mdef\u001b[0m \u001b[0mget_model_fp8_no_fsdp\u001b[0m\u001b[0;34m(\u001b[0m\u001b[0margs\u001b[0m\u001b[0;34m:\u001b[0m \u001b[0mTrainArgs\u001b[0m\u001b[0;34m,\u001b[0m \u001b[0mcheckpointer_info\u001b[0m\u001b[0;34m:\u001b[0m \u001b[0mCheckpointInfo\u001b[0m\u001b[0;34m)\u001b[0m\u001b[0;34m:\u001b[0m\u001b[0;34m\u001b[0m\u001b[0;34m\u001b[0m\u001b[0m\n\u001b[0m\u001b[1;32m      2\u001b[0m     \u001b[0;31m# Load model on meta device first for memory efficiency\u001b[0m\u001b[0;34m\u001b[0m\u001b[0;34m\u001b[0m\u001b[0m\n\u001b[1;32m      3\u001b[0m     \u001b[0;32mwith\u001b[0m \u001b[0mtorch\u001b[0m\u001b[0;34m.\u001b[0m\u001b[0mdevice\u001b[0m\u001b[0;34m(\u001b[0m\u001b[0;34m\"meta\"\u001b[0m\u001b[0;34m)\u001b[0m\u001b[0;34m:\u001b[0m\u001b[0;34m\u001b[0m\u001b[0;34m\u001b[0m\u001b[0m\n\u001b[1;32m      4\u001b[0m         model = checkpointer_info.get_moshi(\n\u001b[1;32m      5\u001b[0m             \u001b[0mdevice\u001b[0m\u001b[0;34m=\u001b[0m\u001b[0;34m\"meta\"\u001b[0m\u001b[0;34m,\u001b[0m\u001b[0;34m\u001b[0m\u001b[0;34m\u001b[0m\u001b[0m\n",
            "\u001b[0;31mNameError\u001b[0m: name 'CheckpointInfo' is not defined"
          ]
        }
      ]
    }
  ],
  "metadata": {
    "accelerator": "GPU",
    "colab": {
      "gpuType": "T4",
      "provenance": []
    },
    "kernelspec": {
      "display_name": "Python 3",
      "name": "python3"
    },
    "language_info": {
      "codemirror_mode": {
        "name": "ipython",
        "version": 3
      },
      "file_extension": ".py",
      "mimetype": "text/x-python",
      "name": "python",
      "nbconvert_exporter": "python",
      "pygments_lexer": "ipython3",
      "version": "3.10.13"
    },
    "widgets": {
      "application/vnd.jupyter.widget-state+json": {
        "4440fa169e8546dfa5812b6f51fd9d06": {
          "model_module": "@jupyter-widgets/controls",
          "model_name": "HBoxModel",
          "model_module_version": "1.5.0",
          "state": {
            "_dom_classes": [],
            "_model_module": "@jupyter-widgets/controls",
            "_model_module_version": "1.5.0",
            "_model_name": "HBoxModel",
            "_view_count": null,
            "_view_module": "@jupyter-widgets/controls",
            "_view_module_version": "1.5.0",
            "_view_name": "HBoxView",
            "box_style": "",
            "children": [
              "IPY_MODEL_e16d9557bed74118b550b5a6a90f1c7b",
              "IPY_MODEL_d9151dd33b2e47f2a02f884ecf5cbead",
              "IPY_MODEL_e81450586d2d44b0911f0b5331657662"
            ],
            "layout": "IPY_MODEL_0a41765cdf9f47edae1879e58007ff52"
          }
        },
        "e16d9557bed74118b550b5a6a90f1c7b": {
          "model_module": "@jupyter-widgets/controls",
          "model_name": "HTMLModel",
          "model_module_version": "1.5.0",
          "state": {
            "_dom_classes": [],
            "_model_module": "@jupyter-widgets/controls",
            "_model_module_version": "1.5.0",
            "_model_name": "HTMLModel",
            "_view_count": null,
            "_view_module": "@jupyter-widgets/controls",
            "_view_module_version": "1.5.0",
            "_view_name": "HTMLView",
            "description": "",
            "description_tooltip": null,
            "layout": "IPY_MODEL_ee301549e4654fdab5b86ce805b1f38a",
            "placeholder": "​",
            "style": "IPY_MODEL_9603aec2ff614ab79998c9f38123b22f",
            "value": "model.safetensors: 100%"
          }
        },
        "d9151dd33b2e47f2a02f884ecf5cbead": {
          "model_module": "@jupyter-widgets/controls",
          "model_name": "FloatProgressModel",
          "model_module_version": "1.5.0",
          "state": {
            "_dom_classes": [],
            "_model_module": "@jupyter-widgets/controls",
            "_model_module_version": "1.5.0",
            "_model_name": "FloatProgressModel",
            "_view_count": null,
            "_view_module": "@jupyter-widgets/controls",
            "_view_module_version": "1.5.0",
            "_view_name": "ProgressView",
            "bar_style": "success",
            "description": "",
            "description_tooltip": null,
            "layout": "IPY_MODEL_c6569ab737e14b2b81e5da261b6a74c7",
            "max": 15375500136,
            "min": 0,
            "orientation": "horizontal",
            "style": "IPY_MODEL_627240ee240d40fd877ff33d9846440d",
            "value": 15375500136
          }
        },
        "e81450586d2d44b0911f0b5331657662": {
          "model_module": "@jupyter-widgets/controls",
          "model_name": "HTMLModel",
          "model_module_version": "1.5.0",
          "state": {
            "_dom_classes": [],
            "_model_module": "@jupyter-widgets/controls",
            "_model_module_version": "1.5.0",
            "_model_name": "HTMLModel",
            "_view_count": null,
            "_view_module": "@jupyter-widgets/controls",
            "_view_module_version": "1.5.0",
            "_view_name": "HTMLView",
            "description": "",
            "description_tooltip": null,
            "layout": "IPY_MODEL_fecfb2df46f543cd8f8d8bf1f4cbbd6a",
            "placeholder": "​",
            "style": "IPY_MODEL_908cdafa727d44749127a2711e94f73b",
            "value": " 15.4G/15.4G [01:31&lt;00:00, 212MB/s]"
          }
        },
        "0a41765cdf9f47edae1879e58007ff52": {
          "model_module": "@jupyter-widgets/base",
          "model_name": "LayoutModel",
          "model_module_version": "1.2.0",
          "state": {
            "_model_module": "@jupyter-widgets/base",
            "_model_module_version": "1.2.0",
            "_model_name": "LayoutModel",
            "_view_count": null,
            "_view_module": "@jupyter-widgets/base",
            "_view_module_version": "1.2.0",
            "_view_name": "LayoutView",
            "align_content": null,
            "align_items": null,
            "align_self": null,
            "border": null,
            "bottom": null,
            "display": null,
            "flex": null,
            "flex_flow": null,
            "grid_area": null,
            "grid_auto_columns": null,
            "grid_auto_flow": null,
            "grid_auto_rows": null,
            "grid_column": null,
            "grid_gap": null,
            "grid_row": null,
            "grid_template_areas": null,
            "grid_template_columns": null,
            "grid_template_rows": null,
            "height": null,
            "justify_content": null,
            "justify_items": null,
            "left": null,
            "margin": null,
            "max_height": null,
            "max_width": null,
            "min_height": null,
            "min_width": null,
            "object_fit": null,
            "object_position": null,
            "order": null,
            "overflow": null,
            "overflow_x": null,
            "overflow_y": null,
            "padding": null,
            "right": null,
            "top": null,
            "visibility": null,
            "width": null
          }
        },
        "ee301549e4654fdab5b86ce805b1f38a": {
          "model_module": "@jupyter-widgets/base",
          "model_name": "LayoutModel",
          "model_module_version": "1.2.0",
          "state": {
            "_model_module": "@jupyter-widgets/base",
            "_model_module_version": "1.2.0",
            "_model_name": "LayoutModel",
            "_view_count": null,
            "_view_module": "@jupyter-widgets/base",
            "_view_module_version": "1.2.0",
            "_view_name": "LayoutView",
            "align_content": null,
            "align_items": null,
            "align_self": null,
            "border": null,
            "bottom": null,
            "display": null,
            "flex": null,
            "flex_flow": null,
            "grid_area": null,
            "grid_auto_columns": null,
            "grid_auto_flow": null,
            "grid_auto_rows": null,
            "grid_column": null,
            "grid_gap": null,
            "grid_row": null,
            "grid_template_areas": null,
            "grid_template_columns": null,
            "grid_template_rows": null,
            "height": null,
            "justify_content": null,
            "justify_items": null,
            "left": null,
            "margin": null,
            "max_height": null,
            "max_width": null,
            "min_height": null,
            "min_width": null,
            "object_fit": null,
            "object_position": null,
            "order": null,
            "overflow": null,
            "overflow_x": null,
            "overflow_y": null,
            "padding": null,
            "right": null,
            "top": null,
            "visibility": null,
            "width": null
          }
        },
        "9603aec2ff614ab79998c9f38123b22f": {
          "model_module": "@jupyter-widgets/controls",
          "model_name": "DescriptionStyleModel",
          "model_module_version": "1.5.0",
          "state": {
            "_model_module": "@jupyter-widgets/controls",
            "_model_module_version": "1.5.0",
            "_model_name": "DescriptionStyleModel",
            "_view_count": null,
            "_view_module": "@jupyter-widgets/base",
            "_view_module_version": "1.2.0",
            "_view_name": "StyleView",
            "description_width": ""
          }
        },
        "c6569ab737e14b2b81e5da261b6a74c7": {
          "model_module": "@jupyter-widgets/base",
          "model_name": "LayoutModel",
          "model_module_version": "1.2.0",
          "state": {
            "_model_module": "@jupyter-widgets/base",
            "_model_module_version": "1.2.0",
            "_model_name": "LayoutModel",
            "_view_count": null,
            "_view_module": "@jupyter-widgets/base",
            "_view_module_version": "1.2.0",
            "_view_name": "LayoutView",
            "align_content": null,
            "align_items": null,
            "align_self": null,
            "border": null,
            "bottom": null,
            "display": null,
            "flex": null,
            "flex_flow": null,
            "grid_area": null,
            "grid_auto_columns": null,
            "grid_auto_flow": null,
            "grid_auto_rows": null,
            "grid_column": null,
            "grid_gap": null,
            "grid_row": null,
            "grid_template_areas": null,
            "grid_template_columns": null,
            "grid_template_rows": null,
            "height": null,
            "justify_content": null,
            "justify_items": null,
            "left": null,
            "margin": null,
            "max_height": null,
            "max_width": null,
            "min_height": null,
            "min_width": null,
            "object_fit": null,
            "object_position": null,
            "order": null,
            "overflow": null,
            "overflow_x": null,
            "overflow_y": null,
            "padding": null,
            "right": null,
            "top": null,
            "visibility": null,
            "width": null
          }
        },
        "627240ee240d40fd877ff33d9846440d": {
          "model_module": "@jupyter-widgets/controls",
          "model_name": "ProgressStyleModel",
          "model_module_version": "1.5.0",
          "state": {
            "_model_module": "@jupyter-widgets/controls",
            "_model_module_version": "1.5.0",
            "_model_name": "ProgressStyleModel",
            "_view_count": null,
            "_view_module": "@jupyter-widgets/base",
            "_view_module_version": "1.2.0",
            "_view_name": "StyleView",
            "bar_color": null,
            "description_width": ""
          }
        },
        "fecfb2df46f543cd8f8d8bf1f4cbbd6a": {
          "model_module": "@jupyter-widgets/base",
          "model_name": "LayoutModel",
          "model_module_version": "1.2.0",
          "state": {
            "_model_module": "@jupyter-widgets/base",
            "_model_module_version": "1.2.0",
            "_model_name": "LayoutModel",
            "_view_count": null,
            "_view_module": "@jupyter-widgets/base",
            "_view_module_version": "1.2.0",
            "_view_name": "LayoutView",
            "align_content": null,
            "align_items": null,
            "align_self": null,
            "border": null,
            "bottom": null,
            "display": null,
            "flex": null,
            "flex_flow": null,
            "grid_area": null,
            "grid_auto_columns": null,
            "grid_auto_flow": null,
            "grid_auto_rows": null,
            "grid_column": null,
            "grid_gap": null,
            "grid_row": null,
            "grid_template_areas": null,
            "grid_template_columns": null,
            "grid_template_rows": null,
            "height": null,
            "justify_content": null,
            "justify_items": null,
            "left": null,
            "margin": null,
            "max_height": null,
            "max_width": null,
            "min_height": null,
            "min_width": null,
            "object_fit": null,
            "object_position": null,
            "order": null,
            "overflow": null,
            "overflow_x": null,
            "overflow_y": null,
            "padding": null,
            "right": null,
            "top": null,
            "visibility": null,
            "width": null
          }
        },
        "908cdafa727d44749127a2711e94f73b": {
          "model_module": "@jupyter-widgets/controls",
          "model_name": "DescriptionStyleModel",
          "model_module_version": "1.5.0",
          "state": {
            "_model_module": "@jupyter-widgets/controls",
            "_model_module_version": "1.5.0",
            "_model_name": "DescriptionStyleModel",
            "_view_count": null,
            "_view_module": "@jupyter-widgets/base",
            "_view_module_version": "1.2.0",
            "_view_name": "StyleView",
            "description_width": ""
          }
        },
        "601ec57bab7641cbb15fbfb9e851ffeb": {
          "model_module": "@jupyter-widgets/controls",
          "model_name": "HBoxModel",
          "model_module_version": "1.5.0",
          "state": {
            "_dom_classes": [],
            "_model_module": "@jupyter-widgets/controls",
            "_model_module_version": "1.5.0",
            "_model_name": "HBoxModel",
            "_view_count": null,
            "_view_module": "@jupyter-widgets/controls",
            "_view_module_version": "1.5.0",
            "_view_name": "HBoxView",
            "box_style": "",
            "children": [
              "IPY_MODEL_fe8eed5e50414ce99de0fff39f70e05d",
              "IPY_MODEL_61155063cf854b3b84f767b80c2885e5",
              "IPY_MODEL_b9e4a507fc7e4e5981cf451895e7c600"
            ],
            "layout": "IPY_MODEL_4b96f08d7bbe4bae81d6d0b2abace0e0"
          }
        },
        "fe8eed5e50414ce99de0fff39f70e05d": {
          "model_module": "@jupyter-widgets/controls",
          "model_name": "HTMLModel",
          "model_module_version": "1.5.0",
          "state": {
            "_dom_classes": [],
            "_model_module": "@jupyter-widgets/controls",
            "_model_module_version": "1.5.0",
            "_model_name": "HTMLModel",
            "_view_count": null,
            "_view_module": "@jupyter-widgets/controls",
            "_view_module_version": "1.5.0",
            "_view_name": "HTMLView",
            "description": "",
            "description_tooltip": null,
            "layout": "IPY_MODEL_26fc91fcbead48a38f82199513643544",
            "placeholder": "​",
            "style": "IPY_MODEL_c69544a20c6140f5b31c2c3fb059abc7",
            "value": "(…)nizer-e351c8d8-checkpoint125.safetensors: 100%"
          }
        },
        "61155063cf854b3b84f767b80c2885e5": {
          "model_module": "@jupyter-widgets/controls",
          "model_name": "FloatProgressModel",
          "model_module_version": "1.5.0",
          "state": {
            "_dom_classes": [],
            "_model_module": "@jupyter-widgets/controls",
            "_model_module_version": "1.5.0",
            "_model_name": "FloatProgressModel",
            "_view_count": null,
            "_view_module": "@jupyter-widgets/controls",
            "_view_module_version": "1.5.0",
            "_view_name": "ProgressView",
            "bar_style": "success",
            "description": "",
            "description_tooltip": null,
            "layout": "IPY_MODEL_b08c948a89154eb8b83f7d15d86e4326",
            "max": 384644900,
            "min": 0,
            "orientation": "horizontal",
            "style": "IPY_MODEL_4bd1016170814e27b16325ebbf0cda86",
            "value": 384644900
          }
        },
        "b9e4a507fc7e4e5981cf451895e7c600": {
          "model_module": "@jupyter-widgets/controls",
          "model_name": "HTMLModel",
          "model_module_version": "1.5.0",
          "state": {
            "_dom_classes": [],
            "_model_module": "@jupyter-widgets/controls",
            "_model_module_version": "1.5.0",
            "_model_name": "HTMLModel",
            "_view_count": null,
            "_view_module": "@jupyter-widgets/controls",
            "_view_module_version": "1.5.0",
            "_view_name": "HTMLView",
            "description": "",
            "description_tooltip": null,
            "layout": "IPY_MODEL_7d52e1cd37f8436b838f999663e94888",
            "placeholder": "​",
            "style": "IPY_MODEL_71c1954f6953475f8b6dbf1611e38453",
            "value": " 385M/385M [00:01&lt;00:00, 330MB/s]"
          }
        },
        "4b96f08d7bbe4bae81d6d0b2abace0e0": {
          "model_module": "@jupyter-widgets/base",
          "model_name": "LayoutModel",
          "model_module_version": "1.2.0",
          "state": {
            "_model_module": "@jupyter-widgets/base",
            "_model_module_version": "1.2.0",
            "_model_name": "LayoutModel",
            "_view_count": null,
            "_view_module": "@jupyter-widgets/base",
            "_view_module_version": "1.2.0",
            "_view_name": "LayoutView",
            "align_content": null,
            "align_items": null,
            "align_self": null,
            "border": null,
            "bottom": null,
            "display": null,
            "flex": null,
            "flex_flow": null,
            "grid_area": null,
            "grid_auto_columns": null,
            "grid_auto_flow": null,
            "grid_auto_rows": null,
            "grid_column": null,
            "grid_gap": null,
            "grid_row": null,
            "grid_template_areas": null,
            "grid_template_columns": null,
            "grid_template_rows": null,
            "height": null,
            "justify_content": null,
            "justify_items": null,
            "left": null,
            "margin": null,
            "max_height": null,
            "max_width": null,
            "min_height": null,
            "min_width": null,
            "object_fit": null,
            "object_position": null,
            "order": null,
            "overflow": null,
            "overflow_x": null,
            "overflow_y": null,
            "padding": null,
            "right": null,
            "top": null,
            "visibility": null,
            "width": null
          }
        },
        "26fc91fcbead48a38f82199513643544": {
          "model_module": "@jupyter-widgets/base",
          "model_name": "LayoutModel",
          "model_module_version": "1.2.0",
          "state": {
            "_model_module": "@jupyter-widgets/base",
            "_model_module_version": "1.2.0",
            "_model_name": "LayoutModel",
            "_view_count": null,
            "_view_module": "@jupyter-widgets/base",
            "_view_module_version": "1.2.0",
            "_view_name": "LayoutView",
            "align_content": null,
            "align_items": null,
            "align_self": null,
            "border": null,
            "bottom": null,
            "display": null,
            "flex": null,
            "flex_flow": null,
            "grid_area": null,
            "grid_auto_columns": null,
            "grid_auto_flow": null,
            "grid_auto_rows": null,
            "grid_column": null,
            "grid_gap": null,
            "grid_row": null,
            "grid_template_areas": null,
            "grid_template_columns": null,
            "grid_template_rows": null,
            "height": null,
            "justify_content": null,
            "justify_items": null,
            "left": null,
            "margin": null,
            "max_height": null,
            "max_width": null,
            "min_height": null,
            "min_width": null,
            "object_fit": null,
            "object_position": null,
            "order": null,
            "overflow": null,
            "overflow_x": null,
            "overflow_y": null,
            "padding": null,
            "right": null,
            "top": null,
            "visibility": null,
            "width": null
          }
        },
        "c69544a20c6140f5b31c2c3fb059abc7": {
          "model_module": "@jupyter-widgets/controls",
          "model_name": "DescriptionStyleModel",
          "model_module_version": "1.5.0",
          "state": {
            "_model_module": "@jupyter-widgets/controls",
            "_model_module_version": "1.5.0",
            "_model_name": "DescriptionStyleModel",
            "_view_count": null,
            "_view_module": "@jupyter-widgets/base",
            "_view_module_version": "1.2.0",
            "_view_name": "StyleView",
            "description_width": ""
          }
        },
        "b08c948a89154eb8b83f7d15d86e4326": {
          "model_module": "@jupyter-widgets/base",
          "model_name": "LayoutModel",
          "model_module_version": "1.2.0",
          "state": {
            "_model_module": "@jupyter-widgets/base",
            "_model_module_version": "1.2.0",
            "_model_name": "LayoutModel",
            "_view_count": null,
            "_view_module": "@jupyter-widgets/base",
            "_view_module_version": "1.2.0",
            "_view_name": "LayoutView",
            "align_content": null,
            "align_items": null,
            "align_self": null,
            "border": null,
            "bottom": null,
            "display": null,
            "flex": null,
            "flex_flow": null,
            "grid_area": null,
            "grid_auto_columns": null,
            "grid_auto_flow": null,
            "grid_auto_rows": null,
            "grid_column": null,
            "grid_gap": null,
            "grid_row": null,
            "grid_template_areas": null,
            "grid_template_columns": null,
            "grid_template_rows": null,
            "height": null,
            "justify_content": null,
            "justify_items": null,
            "left": null,
            "margin": null,
            "max_height": null,
            "max_width": null,
            "min_height": null,
            "min_width": null,
            "object_fit": null,
            "object_position": null,
            "order": null,
            "overflow": null,
            "overflow_x": null,
            "overflow_y": null,
            "padding": null,
            "right": null,
            "top": null,
            "visibility": null,
            "width": null
          }
        },
        "4bd1016170814e27b16325ebbf0cda86": {
          "model_module": "@jupyter-widgets/controls",
          "model_name": "ProgressStyleModel",
          "model_module_version": "1.5.0",
          "state": {
            "_model_module": "@jupyter-widgets/controls",
            "_model_module_version": "1.5.0",
            "_model_name": "ProgressStyleModel",
            "_view_count": null,
            "_view_module": "@jupyter-widgets/base",
            "_view_module_version": "1.2.0",
            "_view_name": "StyleView",
            "bar_color": null,
            "description_width": ""
          }
        },
        "7d52e1cd37f8436b838f999663e94888": {
          "model_module": "@jupyter-widgets/base",
          "model_name": "LayoutModel",
          "model_module_version": "1.2.0",
          "state": {
            "_model_module": "@jupyter-widgets/base",
            "_model_module_version": "1.2.0",
            "_model_name": "LayoutModel",
            "_view_count": null,
            "_view_module": "@jupyter-widgets/base",
            "_view_module_version": "1.2.0",
            "_view_name": "LayoutView",
            "align_content": null,
            "align_items": null,
            "align_self": null,
            "border": null,
            "bottom": null,
            "display": null,
            "flex": null,
            "flex_flow": null,
            "grid_area": null,
            "grid_auto_columns": null,
            "grid_auto_flow": null,
            "grid_auto_rows": null,
            "grid_column": null,
            "grid_gap": null,
            "grid_row": null,
            "grid_template_areas": null,
            "grid_template_columns": null,
            "grid_template_rows": null,
            "height": null,
            "justify_content": null,
            "justify_items": null,
            "left": null,
            "margin": null,
            "max_height": null,
            "max_width": null,
            "min_height": null,
            "min_width": null,
            "object_fit": null,
            "object_position": null,
            "order": null,
            "overflow": null,
            "overflow_x": null,
            "overflow_y": null,
            "padding": null,
            "right": null,
            "top": null,
            "visibility": null,
            "width": null
          }
        },
        "71c1954f6953475f8b6dbf1611e38453": {
          "model_module": "@jupyter-widgets/controls",
          "model_name": "DescriptionStyleModel",
          "model_module_version": "1.5.0",
          "state": {
            "_model_module": "@jupyter-widgets/controls",
            "_model_module_version": "1.5.0",
            "_model_name": "DescriptionStyleModel",
            "_view_count": null,
            "_view_module": "@jupyter-widgets/base",
            "_view_module_version": "1.2.0",
            "_view_name": "StyleView",
            "description_width": ""
          }
        },
        "808dff2046794a9caa3b5356d7beb0b5": {
          "model_module": "@jupyter-widgets/controls",
          "model_name": "HBoxModel",
          "model_module_version": "1.5.0",
          "state": {
            "_dom_classes": [],
            "_model_module": "@jupyter-widgets/controls",
            "_model_module_version": "1.5.0",
            "_model_name": "HBoxModel",
            "_view_count": null,
            "_view_module": "@jupyter-widgets/controls",
            "_view_module_version": "1.5.0",
            "_view_name": "HBoxView",
            "box_style": "",
            "children": [
              "IPY_MODEL_c381bff752f841e384d2bbbfce0c552e",
              "IPY_MODEL_c56d02ed593e4faba93387143b52144e",
              "IPY_MODEL_3525bbf289fe4c01ac905a40425cf6ce"
            ],
            "layout": "IPY_MODEL_dc517e7640fe4915b3e18809499de034"
          }
        },
        "c381bff752f841e384d2bbbfce0c552e": {
          "model_module": "@jupyter-widgets/controls",
          "model_name": "HTMLModel",
          "model_module_version": "1.5.0",
          "state": {
            "_dom_classes": [],
            "_model_module": "@jupyter-widgets/controls",
            "_model_module_version": "1.5.0",
            "_model_name": "HTMLModel",
            "_view_count": null,
            "_view_module": "@jupyter-widgets/controls",
            "_view_module_version": "1.5.0",
            "_view_name": "HTMLView",
            "description": "",
            "description_tooltip": null,
            "layout": "IPY_MODEL_daca5e006f36477fba1cab83afce6f70",
            "placeholder": "​",
            "style": "IPY_MODEL_ed73b45789664e6b9e423d144f8b386b",
            "value": "tokenizer_spm_32k_3.model: 100%"
          }
        },
        "c56d02ed593e4faba93387143b52144e": {
          "model_module": "@jupyter-widgets/controls",
          "model_name": "FloatProgressModel",
          "model_module_version": "1.5.0",
          "state": {
            "_dom_classes": [],
            "_model_module": "@jupyter-widgets/controls",
            "_model_module_version": "1.5.0",
            "_model_name": "FloatProgressModel",
            "_view_count": null,
            "_view_module": "@jupyter-widgets/controls",
            "_view_module_version": "1.5.0",
            "_view_name": "ProgressView",
            "bar_style": "success",
            "description": "",
            "description_tooltip": null,
            "layout": "IPY_MODEL_cee4d93b6f234307a89e7ccac2b1b102",
            "max": 552778,
            "min": 0,
            "orientation": "horizontal",
            "style": "IPY_MODEL_4a3e36be6c354ab084d960440fd733c4",
            "value": 552778
          }
        },
        "3525bbf289fe4c01ac905a40425cf6ce": {
          "model_module": "@jupyter-widgets/controls",
          "model_name": "HTMLModel",
          "model_module_version": "1.5.0",
          "state": {
            "_dom_classes": [],
            "_model_module": "@jupyter-widgets/controls",
            "_model_module_version": "1.5.0",
            "_model_name": "HTMLModel",
            "_view_count": null,
            "_view_module": "@jupyter-widgets/controls",
            "_view_module_version": "1.5.0",
            "_view_name": "HTMLView",
            "description": "",
            "description_tooltip": null,
            "layout": "IPY_MODEL_0da7e63ce2184b57846d85ac67b6919f",
            "placeholder": "​",
            "style": "IPY_MODEL_043b935126244bcaa8a93a07d6d659fe",
            "value": " 553k/553k [00:00&lt;00:00, 48.6MB/s]"
          }
        },
        "dc517e7640fe4915b3e18809499de034": {
          "model_module": "@jupyter-widgets/base",
          "model_name": "LayoutModel",
          "model_module_version": "1.2.0",
          "state": {
            "_model_module": "@jupyter-widgets/base",
            "_model_module_version": "1.2.0",
            "_model_name": "LayoutModel",
            "_view_count": null,
            "_view_module": "@jupyter-widgets/base",
            "_view_module_version": "1.2.0",
            "_view_name": "LayoutView",
            "align_content": null,
            "align_items": null,
            "align_self": null,
            "border": null,
            "bottom": null,
            "display": null,
            "flex": null,
            "flex_flow": null,
            "grid_area": null,
            "grid_auto_columns": null,
            "grid_auto_flow": null,
            "grid_auto_rows": null,
            "grid_column": null,
            "grid_gap": null,
            "grid_row": null,
            "grid_template_areas": null,
            "grid_template_columns": null,
            "grid_template_rows": null,
            "height": null,
            "justify_content": null,
            "justify_items": null,
            "left": null,
            "margin": null,
            "max_height": null,
            "max_width": null,
            "min_height": null,
            "min_width": null,
            "object_fit": null,
            "object_position": null,
            "order": null,
            "overflow": null,
            "overflow_x": null,
            "overflow_y": null,
            "padding": null,
            "right": null,
            "top": null,
            "visibility": null,
            "width": null
          }
        },
        "daca5e006f36477fba1cab83afce6f70": {
          "model_module": "@jupyter-widgets/base",
          "model_name": "LayoutModel",
          "model_module_version": "1.2.0",
          "state": {
            "_model_module": "@jupyter-widgets/base",
            "_model_module_version": "1.2.0",
            "_model_name": "LayoutModel",
            "_view_count": null,
            "_view_module": "@jupyter-widgets/base",
            "_view_module_version": "1.2.0",
            "_view_name": "LayoutView",
            "align_content": null,
            "align_items": null,
            "align_self": null,
            "border": null,
            "bottom": null,
            "display": null,
            "flex": null,
            "flex_flow": null,
            "grid_area": null,
            "grid_auto_columns": null,
            "grid_auto_flow": null,
            "grid_auto_rows": null,
            "grid_column": null,
            "grid_gap": null,
            "grid_row": null,
            "grid_template_areas": null,
            "grid_template_columns": null,
            "grid_template_rows": null,
            "height": null,
            "justify_content": null,
            "justify_items": null,
            "left": null,
            "margin": null,
            "max_height": null,
            "max_width": null,
            "min_height": null,
            "min_width": null,
            "object_fit": null,
            "object_position": null,
            "order": null,
            "overflow": null,
            "overflow_x": null,
            "overflow_y": null,
            "padding": null,
            "right": null,
            "top": null,
            "visibility": null,
            "width": null
          }
        },
        "ed73b45789664e6b9e423d144f8b386b": {
          "model_module": "@jupyter-widgets/controls",
          "model_name": "DescriptionStyleModel",
          "model_module_version": "1.5.0",
          "state": {
            "_model_module": "@jupyter-widgets/controls",
            "_model_module_version": "1.5.0",
            "_model_name": "DescriptionStyleModel",
            "_view_count": null,
            "_view_module": "@jupyter-widgets/base",
            "_view_module_version": "1.2.0",
            "_view_name": "StyleView",
            "description_width": ""
          }
        },
        "cee4d93b6f234307a89e7ccac2b1b102": {
          "model_module": "@jupyter-widgets/base",
          "model_name": "LayoutModel",
          "model_module_version": "1.2.0",
          "state": {
            "_model_module": "@jupyter-widgets/base",
            "_model_module_version": "1.2.0",
            "_model_name": "LayoutModel",
            "_view_count": null,
            "_view_module": "@jupyter-widgets/base",
            "_view_module_version": "1.2.0",
            "_view_name": "LayoutView",
            "align_content": null,
            "align_items": null,
            "align_self": null,
            "border": null,
            "bottom": null,
            "display": null,
            "flex": null,
            "flex_flow": null,
            "grid_area": null,
            "grid_auto_columns": null,
            "grid_auto_flow": null,
            "grid_auto_rows": null,
            "grid_column": null,
            "grid_gap": null,
            "grid_row": null,
            "grid_template_areas": null,
            "grid_template_columns": null,
            "grid_template_rows": null,
            "height": null,
            "justify_content": null,
            "justify_items": null,
            "left": null,
            "margin": null,
            "max_height": null,
            "max_width": null,
            "min_height": null,
            "min_width": null,
            "object_fit": null,
            "object_position": null,
            "order": null,
            "overflow": null,
            "overflow_x": null,
            "overflow_y": null,
            "padding": null,
            "right": null,
            "top": null,
            "visibility": null,
            "width": null
          }
        },
        "4a3e36be6c354ab084d960440fd733c4": {
          "model_module": "@jupyter-widgets/controls",
          "model_name": "ProgressStyleModel",
          "model_module_version": "1.5.0",
          "state": {
            "_model_module": "@jupyter-widgets/controls",
            "_model_module_version": "1.5.0",
            "_model_name": "ProgressStyleModel",
            "_view_count": null,
            "_view_module": "@jupyter-widgets/base",
            "_view_module_version": "1.2.0",
            "_view_name": "StyleView",
            "bar_color": null,
            "description_width": ""
          }
        },
        "0da7e63ce2184b57846d85ac67b6919f": {
          "model_module": "@jupyter-widgets/base",
          "model_name": "LayoutModel",
          "model_module_version": "1.2.0",
          "state": {
            "_model_module": "@jupyter-widgets/base",
            "_model_module_version": "1.2.0",
            "_model_name": "LayoutModel",
            "_view_count": null,
            "_view_module": "@jupyter-widgets/base",
            "_view_module_version": "1.2.0",
            "_view_name": "LayoutView",
            "align_content": null,
            "align_items": null,
            "align_self": null,
            "border": null,
            "bottom": null,
            "display": null,
            "flex": null,
            "flex_flow": null,
            "grid_area": null,
            "grid_auto_columns": null,
            "grid_auto_flow": null,
            "grid_auto_rows": null,
            "grid_column": null,
            "grid_gap": null,
            "grid_row": null,
            "grid_template_areas": null,
            "grid_template_columns": null,
            "grid_template_rows": null,
            "height": null,
            "justify_content": null,
            "justify_items": null,
            "left": null,
            "margin": null,
            "max_height": null,
            "max_width": null,
            "min_height": null,
            "min_width": null,
            "object_fit": null,
            "object_position": null,
            "order": null,
            "overflow": null,
            "overflow_x": null,
            "overflow_y": null,
            "padding": null,
            "right": null,
            "top": null,
            "visibility": null,
            "width": null
          }
        },
        "043b935126244bcaa8a93a07d6d659fe": {
          "model_module": "@jupyter-widgets/controls",
          "model_name": "DescriptionStyleModel",
          "model_module_version": "1.5.0",
          "state": {
            "_model_module": "@jupyter-widgets/controls",
            "_model_module_version": "1.5.0",
            "_model_name": "DescriptionStyleModel",
            "_view_count": null,
            "_view_module": "@jupyter-widgets/base",
            "_view_module_version": "1.2.0",
            "_view_name": "StyleView",
            "description_width": ""
          }
        }
      }
    }
  },
  "nbformat": 4,
  "nbformat_minor": 0
}